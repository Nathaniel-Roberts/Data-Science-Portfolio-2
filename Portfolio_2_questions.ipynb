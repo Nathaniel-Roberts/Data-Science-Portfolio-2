{
 "cells": [
  {
   "cell_type": "markdown",
   "id": "Z88FfJc9lA_T",
   "metadata": {
    "id": "Z88FfJc9lA_T"
   },
   "source": [
    "## Analysis of an E-commerce Dataset Part 2"
   ]
  },
  {
   "cell_type": "markdown",
   "id": "hoq0NwA9lA_V",
   "metadata": {
    "id": "hoq0NwA9lA_V"
   },
   "source": [
    "The goal of the second analysis task is to train linear regression models to predict users' ratings towards items. This involves a standard Data Science workflow: exploring data, building models, making predictions, and evaluating results. In this task, we will explore the impacts of feature selections and different sizes of training/testing data on the model performance. We will use another cleaned combined e-commerce sub-dataset that **is different from** the one in “Analysis of an E-commerce Dataset” task 1."
   ]
  },
  {
   "cell_type": "markdown",
   "id": "f9fd3NU_lA_W",
   "metadata": {
    "id": "f9fd3NU_lA_W"
   },
   "source": [
    "### Import Cleaned E-commerce Dataset\n",
    "The csv file named 'cleaned_ecommerce_dataset.csv' is provided. You may need to use the Pandas method, i.e., `read_csv`, for reading it. After that, please print out its total length."
   ]
  },
  {
   "cell_type": "code",
   "execution_count": 51,
   "id": "56cc517e",
   "metadata": {},
   "outputs": [],
   "source": [
    "# Import Variables\n",
    "import pandas as pd\n",
    "import numpy as np\n",
    "import seaborn as sns\n",
    "import matplotlib.pyplot as plt\n",
    "%matplotlib inline\n",
    "from sklearn.model_selection import train_test_split\n",
    "from sklearn.linear_model import LinearRegression\n",
    "from sklearn.metrics import mean_squared_error"
   ]
  },
  {
   "cell_type": "code",
   "execution_count": 45,
   "id": "PJrb2gtAlA_W",
   "metadata": {
    "id": "PJrb2gtAlA_W"
   },
   "outputs": [
    {
     "data": {
      "text/plain": [
       "2685"
      ]
     },
     "execution_count": 45,
     "metadata": {},
     "output_type": "execute_result"
    }
   ],
   "source": [
    "# Read in the Data Set\n",
    "data = pd.read_csv(\"cleaned_ecommerce_dataset.csv\")\n",
    "#Print out its Total Length\n",
    "data.shape[0]"
   ]
  },
  {
   "cell_type": "markdown",
   "id": "aqbuU6rglA_X",
   "metadata": {
    "id": "aqbuU6rglA_X"
   },
   "source": [
    "### Explore the Dataset\n",
    "\n",
    "* Use the methods, i.e., `head()` and `info()`, to have a rough picture about the data, e.g., how many columns, and the data types of each column.\n",
    "* As our goal is to predict ratings given other columns, please get the correlations between helpfulness/gender/category/review and rating by using the `corr()` method.\n",
    "* To get the correlations between different features, you may need to first convert the categorical features (i.e., gender, category and review) into numerial values. For doing this, you may need to import `OrdinalEncoder` from `sklearn.preprocessing` (refer to the useful exmaples [here](https://pbpython.com/categorical-encoding.html))\n",
    "* Please provide ___necessary explanations/analysis___ on the correlations, and figure out which are the ___most___ and ___least___ corrleated features regarding rating. Try to ___discuss___ how the correlation will affect the final prediction results, if we use these features to train a regression model for rating prediction. In what follows, we will conduct experiments to verify your hypothesis."
   ]
  },
  {
   "cell_type": "code",
   "execution_count": 24,
   "id": "63865661",
   "metadata": {},
   "outputs": [
    {
     "data": {
      "text/html": [
       "<div>\n",
       "<style scoped>\n",
       "    .dataframe tbody tr th:only-of-type {\n",
       "        vertical-align: middle;\n",
       "    }\n",
       "\n",
       "    .dataframe tbody tr th {\n",
       "        vertical-align: top;\n",
       "    }\n",
       "\n",
       "    .dataframe thead th {\n",
       "        text-align: right;\n",
       "    }\n",
       "</style>\n",
       "<table border=\"1\" class=\"dataframe\">\n",
       "  <thead>\n",
       "    <tr style=\"text-align: right;\">\n",
       "      <th></th>\n",
       "      <th>userId</th>\n",
       "      <th>timestamp</th>\n",
       "      <th>review</th>\n",
       "      <th>item</th>\n",
       "      <th>rating</th>\n",
       "      <th>helpfulness</th>\n",
       "      <th>gender</th>\n",
       "      <th>category</th>\n",
       "      <th>item_id</th>\n",
       "      <th>item_price</th>\n",
       "      <th>user_city</th>\n",
       "    </tr>\n",
       "  </thead>\n",
       "  <tbody>\n",
       "    <tr>\n",
       "      <th>0</th>\n",
       "      <td>4081</td>\n",
       "      <td>71900</td>\n",
       "      <td>Not always McCrap</td>\n",
       "      <td>McDonald's</td>\n",
       "      <td>4.0</td>\n",
       "      <td>3.0</td>\n",
       "      <td>M</td>\n",
       "      <td>Restaurants &amp; Gourmet</td>\n",
       "      <td>41</td>\n",
       "      <td>30.74</td>\n",
       "      <td>4</td>\n",
       "    </tr>\n",
       "    <tr>\n",
       "      <th>1</th>\n",
       "      <td>4081</td>\n",
       "      <td>72000</td>\n",
       "      <td>I dropped the chalupa even before he told me to</td>\n",
       "      <td>Taco Bell</td>\n",
       "      <td>1.0</td>\n",
       "      <td>4.0</td>\n",
       "      <td>M</td>\n",
       "      <td>Restaurants &amp; Gourmet</td>\n",
       "      <td>74</td>\n",
       "      <td>108.30</td>\n",
       "      <td>4</td>\n",
       "    </tr>\n",
       "    <tr>\n",
       "      <th>2</th>\n",
       "      <td>4081</td>\n",
       "      <td>72000</td>\n",
       "      <td>The Wonderful World of Wendy</td>\n",
       "      <td>Wendy's</td>\n",
       "      <td>5.0</td>\n",
       "      <td>4.0</td>\n",
       "      <td>M</td>\n",
       "      <td>Restaurants &amp; Gourmet</td>\n",
       "      <td>84</td>\n",
       "      <td>69.00</td>\n",
       "      <td>4</td>\n",
       "    </tr>\n",
       "    <tr>\n",
       "      <th>3</th>\n",
       "      <td>4081</td>\n",
       "      <td>100399</td>\n",
       "      <td>They actually did it</td>\n",
       "      <td>South Park: Bigger, Longer &amp; Uncut</td>\n",
       "      <td>5.0</td>\n",
       "      <td>3.0</td>\n",
       "      <td>M</td>\n",
       "      <td>Movies</td>\n",
       "      <td>68</td>\n",
       "      <td>143.11</td>\n",
       "      <td>4</td>\n",
       "    </tr>\n",
       "    <tr>\n",
       "      <th>4</th>\n",
       "      <td>4081</td>\n",
       "      <td>100399</td>\n",
       "      <td>Hey! Gimme some pie!</td>\n",
       "      <td>American Pie</td>\n",
       "      <td>3.0</td>\n",
       "      <td>3.0</td>\n",
       "      <td>M</td>\n",
       "      <td>Movies</td>\n",
       "      <td>6</td>\n",
       "      <td>117.89</td>\n",
       "      <td>4</td>\n",
       "    </tr>\n",
       "  </tbody>\n",
       "</table>\n",
       "</div>"
      ],
      "text/plain": [
       "   userId  timestamp                                           review  \\\n",
       "0    4081      71900                                Not always McCrap   \n",
       "1    4081      72000  I dropped the chalupa even before he told me to   \n",
       "2    4081      72000                     The Wonderful World of Wendy   \n",
       "3    4081     100399                             They actually did it   \n",
       "4    4081     100399                             Hey! Gimme some pie!   \n",
       "\n",
       "                                 item  rating  helpfulness gender  \\\n",
       "0                          McDonald's     4.0          3.0      M   \n",
       "1                           Taco Bell     1.0          4.0      M   \n",
       "2                             Wendy's     5.0          4.0      M   \n",
       "3  South Park: Bigger, Longer & Uncut     5.0          3.0      M   \n",
       "4                        American Pie     3.0          3.0      M   \n",
       "\n",
       "                category  item_id  item_price  user_city  \n",
       "0  Restaurants & Gourmet       41       30.74          4  \n",
       "1  Restaurants & Gourmet       74      108.30          4  \n",
       "2  Restaurants & Gourmet       84       69.00          4  \n",
       "3                 Movies       68      143.11          4  \n",
       "4                 Movies        6      117.89          4  "
      ]
     },
     "execution_count": 24,
     "metadata": {},
     "output_type": "execute_result"
    }
   ],
   "source": [
    "data.head()"
   ]
  },
  {
   "cell_type": "code",
   "execution_count": 19,
   "id": "W3PImHiElA_X",
   "metadata": {
    "id": "W3PImHiElA_X"
   },
   "outputs": [
    {
     "name": "stdout",
     "output_type": "stream",
     "text": [
      "<class 'pandas.core.frame.DataFrame'>\n",
      "RangeIndex: 2685 entries, 0 to 2684\n",
      "Data columns (total 11 columns):\n",
      " #   Column       Non-Null Count  Dtype  \n",
      "---  ------       --------------  -----  \n",
      " 0   userId       2685 non-null   int64  \n",
      " 1   timestamp    2685 non-null   int64  \n",
      " 2   review       2685 non-null   object \n",
      " 3   item         2685 non-null   object \n",
      " 4   rating       2685 non-null   float64\n",
      " 5   helpfulness  2685 non-null   float64\n",
      " 6   gender       2685 non-null   object \n",
      " 7   category     2685 non-null   object \n",
      " 8   item_id      2685 non-null   int64  \n",
      " 9   item_price   2685 non-null   float64\n",
      " 10  user_city    2685 non-null   int64  \n",
      "dtypes: float64(3), int64(4), object(4)\n",
      "memory usage: 230.9+ KB\n"
     ]
    }
   ],
   "source": [
    "data.info()"
   ]
  },
  {
   "cell_type": "markdown",
   "id": "b14a19fe",
   "metadata": {},
   "source": [
    "There are 11 Columns. The datatypes are as follows:\n",
    "- userId: int64\n",
    "- timestamp: int64\n",
    "- review: object\n",
    "- item: object\n",
    "- rating: float64\n",
    "- helpfulness: float64\n",
    "- gender: object\n",
    "- category: object\n",
    "- item_id: int64\n",
    "- item_price: float64\n",
    "- user_city: int64"
   ]
  },
  {
   "cell_type": "code",
   "execution_count": 48,
   "id": "ee3785c6",
   "metadata": {},
   "outputs": [
    {
     "name": "stdout",
     "output_type": "stream",
     "text": [
      "             helpfulness    rating    gender  category\n",
      "helpfulness     1.000000 -0.007523 -0.075947  0.032015\n",
      "rating         -0.007523  1.000000  0.034337  0.037364\n",
      "gender         -0.075947  0.034337  1.000000 -0.002576\n",
      "category        0.032015  0.037364 -0.002576  1.000000\n"
     ]
    }
   ],
   "source": [
    "# Correlations\n",
    "data['gender'] = pd.factorize(data['gender'])[0]\n",
    "data['category'] = pd.factorize(data['category'])[0]\n",
    "correlation_data = data[['helpfulness', 'rating', 'gender', 'category']].corr(numeric_only=True)\n",
    "print(correlation_data)"
   ]
  },
  {
   "cell_type": "markdown",
   "id": "7334c8af",
   "metadata": {},
   "source": [
    "# Analysis\n",
    "## Rating vs Helpfulness\n",
    "### Correlation: -0.007523\n",
    "### Analysis\n",
    "The correlation between the two is very close to zero. This suggests that there is almost no linear relationship between how helpful a review is and the actual rating given to that item. The helpfulness of a review doesn't appear to strongly influence the rating given by the user.\n",
    "## Rating vs Gender\n",
    "### Correlation: Males -0.034337; Females 0.034337\n",
    "### Analysis\n",
    "Both male and females have very weak correlations with the rating. This indicates there is no clear trend of certain genders tending to give higher or lower ratings. This is seen with the weak linear relationship between gender and rating.\n",
    "## Rating vs Category:\n",
    "### Correlation: 0.037364\n",
    "### Analysis\n",
    "Similarly to Gender, the correlation between category and rating is also very small, indicating a weak positive relationship. This suggests that the category of the item might have a slight influence on the rating, but it's not a strong predictor.\n",
    "## Gender vs Helpfulness\n",
    "### Correlation: -0.075947\n",
    "### Analysis\n",
    "This indicates a weak negative correlation. However, it's important to interpret this cautiously. It might suggest that there is a slight tendency for reviews written by one gender to be rated as less helpful by others, but the correlation is not strong enough to make definitive conclusions.\n",
    "## Hypothesis\n",
    "The correlation vales are generally quite low, suggesting that, individually, they might not be strong predictors of the Rating. A regression model using these features might not perform very well due to the weak correlations."
   ]
  },
  {
   "cell_type": "markdown",
   "id": "4myP5igslA_Y",
   "metadata": {
    "id": "4myP5igslA_Y"
   },
   "source": [
    "### Split Training and Testing Data\n",
    "* Machine learning models are trained to help make predictions for the future. Normally, we need to randomly split the dataset into training and testing sets, where we use the training set to train the model, and then leverage the well-trained model to make predictions on the testing set.\n",
    "* To further investigate whether the size of the training/testing data affects the model performance, please random split the data into training and testing sets with different sizes:\n",
    "    * Case 1: training data containing 10% of the entire data;\n",
    "    * Case 2: training data containing 90% of the entire data.\n",
    "* Print the shape of training and testing sets in the two cases."
   ]
  },
  {
   "cell_type": "code",
   "execution_count": 50,
   "id": "JIDMig9blA_Y",
   "metadata": {
    "id": "JIDMig9blA_Y"
   },
   "outputs": [
    {
     "name": "stdout",
     "output_type": "stream",
     "text": [
      "Case 1:\n",
      "Training data shape: (268, 11)\n",
      "Testing data shape: (2417, 11)\n",
      "\n",
      "Case 2:\n",
      "Training data shape: (2416, 11)\n",
      "Testing data shape: (269, 11)\n"
     ]
    }
   ],
   "source": [
    "train_data_case1, test_data_case1 = train_test_split(data, train_size=0.1, random_state=42)\n",
    "\n",
    "\n",
    "# Case 1: Training data containing 10% of the entire data\n",
    "train_data_case1, test_data_case1 = train_test_split(data, train_size=0.1, random_state=42)\n",
    "print(\"Case 1:\")\n",
    "print(\"Training data shape:\", train_data_case1.shape)\n",
    "print(\"Testing data shape:\", test_data_case1.shape)\n",
    "\n",
    "# Case 2: Training data containing 90% of the entire data\n",
    "train_data_case2, test_data_case2 = train_test_split(data, train_size=0.9, random_state=42)\n",
    "print(\"\\nCase 2:\")\n",
    "print(\"Training data shape:\", train_data_case2.shape)\n",
    "print(\"Testing data shape:\", test_data_case2.shape)"
   ]
  },
  {
   "cell_type": "markdown",
   "id": "DjSsgT0BlA_Y",
   "metadata": {
    "id": "DjSsgT0BlA_Y"
   },
   "source": [
    "### Train Linear Regression Models with Feature Selection under Cases 1 & 2\n",
    "* When training a machine learning model for prediction, we may need to select the most important/correlated input features for more accurate results.\n",
    "* To investigate whether feature selection affects the model performance, please select two most correlated features and two least correlated features regarding rating, respectively.\n",
    "* Train four linear regression models by following the conditions:\n",
    "    - (model-a) using the training/testing data in case 1 with two most correlated input features\n",
    "    - (model-b) using the training/testing data in case 1 with two least correlated input features\n",
    "    - (model-c) using the training/testing data in case 2 with two most correlated input features\n",
    "    - (model-d) using the training/testing data in case 2 with two least correlated input features\n",
    "* By doing this, we can verify the impacts of the size of traing/testing data on the model performance via comparing model-a and model-c (or model-b and model-d); meanwhile the impacts of feature selection can be validated via comparing model-a and model-b (or model-c and model-d).    "
   ]
  },
  {
   "cell_type": "code",
   "execution_count": 55,
   "id": "DASzPUATlA_Z",
   "metadata": {
    "id": "DASzPUATlA_Z"
   },
   "outputs": [],
   "source": [
    "# Select the most and least correlated features regarding rating\n",
    "most_correlated_features = ['helpfulness', 'category']\n",
    "least_correlated_features = ['gender', 'category']\n",
    "\n",
    "# Define a function to train and evaluate a linear regression model\n",
    "def train_and_evaluate_model(X_train, y_train, X_test, y_test):\n",
    "    model = LinearRegression()\n",
    "    model.fit(X_train, y_train)\n",
    "    \n",
    "    y_pred = model.predict(X_test)\n",
    "    mse = mean_squared_error(y_test, y_pred)\n",
    "    \n",
    "    return mse\n",
    "\n",
    "# Model A: Case 1 - Most correlated features\n",
    "X_train_model_a_case1 = train_data_case1[most_correlated_features].values\n",
    "y_train_model_a_case1 = train_data_case1['rating'].values\n",
    "X_test_model_a_case1 = test_data_case1[most_correlated_features].values\n",
    "y_test_model_a_case1 = test_data_case1['rating'].values\n",
    "\n",
    "# Model B: Case 1 - Least correlated features\n",
    "X_train_model_b_case1 = train_data_case1[least_correlated_features].values\n",
    "y_train_model_b_case1 = train_data_case1['rating'].values\n",
    "X_test_model_b_case1 = test_data_case1[least_correlated_features].values\n",
    "y_test_model_b_case1 = test_data_case1['rating'].values\n",
    "\n",
    "# Model C: Case 2 - Most correlated features\n",
    "X_train_model_c_case2 = train_data_case2[most_correlated_features].values\n",
    "y_train_model_c_case2 = train_data_case2['rating'].values\n",
    "X_test_model_c_case2 = test_data_case2[most_correlated_features].values\n",
    "y_test_model_c_case2 = test_data_case2['rating'].values\n",
    "\n",
    "# Model D: Case 2 - Least correlated features\n",
    "X_train_model_d_case2 = train_data_case2[least_correlated_features].values\n",
    "y_train_model_d_case2 = train_data_case2['rating'].values\n",
    "X_test_model_d_case2 = test_data_case2[least_correlated_features].values\n",
    "y_test_model_d_case2 = test_data_case2['rating'].values"
   ]
  },
  {
   "cell_type": "markdown",
   "id": "KATSn7hYlA_Z",
   "metadata": {
    "id": "KATSn7hYlA_Z"
   },
   "source": [
    "### Evaluate Models\n",
    "* Evaluate the performance of the four models with two metrics, including MSE and Root MSE\n",
    "* Print the results of the four models regarding the two metrics"
   ]
  },
  {
   "cell_type": "code",
   "execution_count": 57,
   "id": "4fU8GPS9lA_Z",
   "metadata": {
    "id": "4fU8GPS9lA_Z"
   },
   "outputs": [
    {
     "name": "stdout",
     "output_type": "stream",
     "text": [
      "Model A (Case 1) - MSE: 1.8345515207639367 RMSE: 1.354456171592103\n",
      "Model B (Case 1) - MSE: 1.8697898442987213 RMSE: 1.3674025904241667\n",
      "Model C (Case 2) - MSE: 1.7190979760291663 RMSE: 1.3111437663464545\n",
      "Model D (Case 2) - MSE: 1.7216496666271401 RMSE: 1.3121164836351764\n"
     ]
    }
   ],
   "source": [
    "mse_model_a_case1 = train_and_evaluate_model(X_train_model_a_case1, y_train_model_a_case1, X_test_model_a_case1, y_test_model_a_case1)\n",
    "mse_model_b_case1 = train_and_evaluate_model(X_train_model_b_case1, y_train_model_b_case1, X_test_model_b_case1, y_test_model_b_case1)\n",
    "mse_model_c_case2 = train_and_evaluate_model(X_train_model_c_case2, y_train_model_c_case2, X_test_model_c_case2, y_test_model_c_case2)\n",
    "mse_model_d_case2 = train_and_evaluate_model(X_train_model_d_case2, y_train_model_d_case2, X_test_model_d_case2, y_test_model_d_case2)\n",
    "\n",
    "def calculate_rmse(mse):\n",
    "    return np.sqrt(mse)\n",
    "\n",
    "rmse_model_a_case1 = calculate_rmse(mse_model_a_case1)\n",
    "rmse_model_b_case1 = calculate_rmse(mse_model_b_case1)\n",
    "rmse_model_c_case2 = calculate_rmse(mse_model_c_case2)\n",
    "rmse_model_d_case2 = calculate_rmse(mse_model_d_case2)\n",
    "\n",
    "# Print the results\n",
    "print(\"Model A (Case 1) - MSE:\", mse_model_a_case1, \"RMSE:\", rmse_model_a_case1)\n",
    "print(\"Model B (Case 1) - MSE:\", mse_model_b_case1, \"RMSE:\", rmse_model_b_case1)\n",
    "print(\"Model C (Case 2) - MSE:\", mse_model_c_case2, \"RMSE:\", rmse_model_c_case2)\n",
    "print(\"Model D (Case 2) - MSE:\", mse_model_d_case2, \"RMSE:\", rmse_model_d_case2)"
   ]
  },
  {
   "cell_type": "markdown",
   "id": "Y9jx-eY6lA_a",
   "metadata": {
    "id": "Y9jx-eY6lA_a"
   },
   "source": [
    "### Visualize, Compare and Analyze the Results\n",
    "* Visulize the results, and perform ___insightful analysis___ on the obtained results. For better visualization, you may need to carefully set the scale for the y-axis.\n",
    "* Normally, the model trained with most correlated features and more training data will get better results. Do you obtain the similar observations? If not, please ___explain the possible reasons___."
   ]
  },
  {
   "cell_type": "code",
   "execution_count": 59,
   "id": "3TNAIGDilA_a",
   "metadata": {
    "id": "3TNAIGDilA_a"
   },
   "outputs": [
    {
     "data": {
      "image/png": "[encoded data removed]",
      "text/plain": [
       "<Figure size 1200x600 with 2 Axes>"
      ]
     },
     "metadata": {},
     "output_type": "display_data"
    },
    {
     "data": {
      "image/png": "[encoded data removed]",
      "text/plain": [
       "<Figure size 1000x600 with 1 Axes>"
      ]
     },
     "metadata": {},
     "output_type": "display_data"
    }
   ],
   "source": [
    "models = ['Model A', 'Model B', 'Model C', 'Model D']\n",
    "mse_values = [1.8345515207639367, 1.8697898442987213, 1.7190979760291663, 1.7216496666271401]\n",
    "rmse_values = [1.354456171592103, 1.3674025904241667, 1.3111437663464545, 1.3121164836351764]\n",
    "\n",
    "# Calculate squared MSE values for bar plot\n",
    "mse_squared_values = [mse ** 2 for mse in mse_values]\n",
    "\n",
    "# Plot 1: Side-by-Side Bar Plot for MSE and RMSE Comparison\n",
    "plt.figure(figsize=(12, 6))\n",
    "\n",
    "plt.subplot(1, 2, 1)\n",
    "plt.bar(models, mse_squared_values, color=['blue', 'orange', 'green', 'red'])\n",
    "plt.xlabel('Models')\n",
    "plt.ylabel('MSE (Squared)')\n",
    "plt.title('Comparison of MSE (Squared) Values for Different Models')\n",
    "\n",
    "plt.subplot(1, 2, 2)\n",
    "plt.bar(models, rmse_values, color=['blue', 'orange', 'green', 'red'])\n",
    "plt.xlabel('Models')\n",
    "plt.ylabel('RMSE')\n",
    "plt.title('Comparison of RMSE Values for Different Models')\n",
    "\n",
    "plt.tight_layout()\n",
    "plt.show()\n",
    "\n",
    "# Plot 2: Line Plot to Visualize Model Performance Trend with Increasing Training Data Size\n",
    "training_data_sizes = ['10% (Case 1)', '90% (Case 2)']\n",
    "rmse_values_case_1 = [1.354456171592103, 1.3674025904241667]\n",
    "rmse_values_case_2 = [1.3111437663464545, 1.3121164836351764]\n",
    "\n",
    "plt.figure(figsize=(10, 6))\n",
    "plt.plot(training_data_sizes, rmse_values_case_1, marker='o', label='Correlated Features')\n",
    "plt.plot(training_data_sizes, rmse_values_case_2, marker='o', label='Least Correlated Features')\n",
    "plt.xlabel('Training Data Size')\n",
    "plt.ylabel('RMSE')\n",
    "plt.title('Impact of Training Data Size on Model Performance')\n",
    "plt.legend()\n",
    "plt.grid()\n",
    "plt.show()"
   ]
  },
  {
   "cell_type": "markdown",
   "id": "1394333f",
   "metadata": {},
   "source": []
  }
 ],
 "metadata": {
  "colab": {
   "provenance": []
  },
  "kernelspec": {
   "display_name": "Python 3 (ipykernel)",
   "language": "python",
   "name": "python3"
  },
  "language_info": {
   "codemirror_mode": {
    "name": "ipython",
    "version": 3
   },
   "file_extension": ".py",
   "mimetype": "text/x-python",
   "name": "python",
   "nbconvert_exporter": "python",
   "pygments_lexer": "ipython3",
   "version": "3.11.3"
  }
 },
 "nbformat": 4,
 "nbformat_minor": 5
}
